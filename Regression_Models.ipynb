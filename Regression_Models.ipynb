{
  "cells": [
    {
      "cell_type": "code",
      "execution_count": null,
      "metadata": {
        "id": "7sOcpMA5m2Li"
      },
      "outputs": [],
      "source": []
    },
    {
      "cell_type": "code",
      "execution_count": 1,
      "metadata": {
        "colab": {
          "base_uri": "https://localhost:8080/"
        },
        "id": "a6uvvZlpssoC",
        "outputId": "dc03edf2-db1b-43e3-d909-6275fdf8dec9"
      },
      "outputs": [
        {
          "output_type": "stream",
          "name": "stdout",
          "text": [
            "Mounted at /content/drive\n"
          ]
        }
      ],
      "source": [
        "from google.colab import drive\n",
        "drive.mount('/content/drive')"
      ]
    },
    {
      "cell_type": "code",
      "execution_count": 2,
      "metadata": {
        "id": "54Lq7kRnsxwX"
      },
      "outputs": [],
      "source": [
        "import pandas as pd\n",
        "import numpy as np\n",
        "import matplotlib.pyplot as plt\n",
        "%matplotlib inline\n",
        "import seaborn as sns"
      ]
    },
    {
      "cell_type": "code",
      "execution_count": 3,
      "metadata": {
        "id": "vZ_nsOf6szzD"
      },
      "outputs": [],
      "source": [
        "import glob"
      ]
    },
    {
      "cell_type": "code",
      "execution_count": 4,
      "metadata": {
        "colab": {
          "base_uri": "https://localhost:8080/"
        },
        "id": "NPcT2FdBs2BN",
        "outputId": "82fa90bc-714c-409d-dd7a-293f56bc610a"
      },
      "outputs": [
        {
          "output_type": "execute_result",
          "data": {
            "text/plain": [
              "['/content/drive/MyDrive/Data Science Journey/Final Thesis/model data/TRANSIT 2021 (1).xlsx',\n",
              " '/content/drive/MyDrive/Data Science Journey/Final Thesis/model data/DIRECT 2022.xlsx',\n",
              " '/content/drive/MyDrive/Data Science Journey/Final Thesis/model data/TS 2022.xlsx']"
            ]
          },
          "metadata": {},
          "execution_count": 4
        }
      ],
      "source": [
        "path = \"/content/drive/MyDrive/Data Science Journey/Final Thesis/model data\"\n",
        "all_files = glob.glob(path + \"/*.xlsx\")\n",
        "all_files"
      ]
    },
    {
      "cell_type": "code",
      "execution_count": 5,
      "metadata": {
        "id": "s9sgnasgs3xl"
      },
      "outputs": [],
      "source": [
        "sm = []\n",
        "for filename in all_files:\n",
        "  collection = pd.read_excel(filename, header = 1, index_col = None)\n",
        "  sm.append(collection)"
      ]
    },
    {
      "cell_type": "code",
      "execution_count": 6,
      "metadata": {
        "colab": {
          "base_uri": "https://localhost:8080/"
        },
        "id": "TPEY_FsRs6AO",
        "outputId": "11840832-ef9a-40ae-cf8e-bf28bfdf9e2c"
      },
      "outputs": [
        {
          "output_type": "execute_result",
          "data": {
            "text/plain": [
              "(63222, 87)"
            ]
          },
          "metadata": {},
          "execution_count": 6
        }
      ],
      "source": [
        "collection = pd.concat(sm)\n",
        "collection.shape"
      ]
    },
    {
      "cell_type": "code",
      "execution_count": 7,
      "metadata": {
        "id": "rdg-Fv8utAdn"
      },
      "outputs": [],
      "source": [
        "df = collection[['Trade', 'Loop', 'DG', 'RF', 'OOG', 'Load ETD', 'Booking Date',\n",
        "       '20DC', '40DC', '40HQ', '45HQ', '20RF', '40RQ', '20FO', '40FO', '20FC',\n",
        "       '40FC', 'TTL Teus', 'TTL Weight', 'MC Status', 'TTL USD Amount', 'TH PP Currency', 'TH PP Amount', 'TH CC Currency',\n",
        "       'TH CC Amount', 'DF PP Currency', 'DF PP Amount', 'DF CC Currency',\n",
        "       'DF CC Amount', 'Revenue', 'MC', 'MC per TEU', 'Released Teus', 'TTL Weight.1']]"
      ]
    },
    {
      "cell_type": "code",
      "execution_count": 8,
      "metadata": {
        "colab": {
          "base_uri": "https://localhost:8080/",
          "height": 490
        },
        "id": "jGrhjQIQtg30",
        "outputId": "a6a60974-75bf-4a1a-fbb7-c8669577c0fd"
      },
      "outputs": [
        {
          "output_type": "execute_result",
          "data": {
            "text/plain": [
              "  Trade Loop   DG   RF  OOG            Load ETD        Booking Date  20DC  \\\n",
              "0  IAPS  SE8  NaN  NaN  NaN 2021-11-13 14:30:00 2021-10-28 11:52:06   5.0   \n",
              "1  IAPS  SE8  NaN  NaN  NaN 2021-11-13 14:30:00 2021-10-28 11:54:57   1.0   \n",
              "2  IAPS  SE8  NaN  NaN  NaN 2021-11-13 14:30:00 2021-10-28 14:24:53   2.0   \n",
              "3  IAPS  SE8  NaN  NaN  NaN 2021-11-13 14:30:00 2021-10-28 14:43:34   4.0   \n",
              "4  TPEB  SE8  NaN  NaN  NaN 2021-11-13 14:30:00 2021-10-28 14:37:32   0.0   \n",
              "\n",
              "   40DC  40HQ  ...  TH CC Amount  DF PP Currency  DF PP Amount  \\\n",
              "0   0.0   0.0  ...        2365.0             VND      950000.0   \n",
              "1   0.0   0.0  ...          95.0             VND      950000.0   \n",
              "2   0.0   0.0  ...           NaN             VND      950000.0   \n",
              "3   0.0   0.0  ...         600.0             VND      950000.0   \n",
              "4   0.0   2.0  ...           NaN             VND      950000.0   \n",
              "\n",
              "   DF CC Currency  DF CC Amount   Revenue        MC  MC per TEU  \\\n",
              "0             MYR         210.0   2206.08   1678.23      335.65   \n",
              "1             IDR      100000.0    712.23    454.97      454.97   \n",
              "2             IDR      100000.0   1435.66    769.56      384.78   \n",
              "3             USD          65.0   3900.45   1673.45      418.36   \n",
              "4             NaN           NaN  31686.37  28272.90     7068.23   \n",
              "\n",
              "   Released Teus TTL Weight.1  \n",
              "0              5     111430.0  \n",
              "1              1       3024.0  \n",
              "2              2      48790.0  \n",
              "3              4      64000.0  \n",
              "4              2      47840.0  \n",
              "\n",
              "[5 rows x 34 columns]"
            ],
            "text/html": [
              "\n",
              "  <div id=\"df-27a51acf-6ffe-40c8-8dc4-264b2929f0c1\">\n",
              "    <div class=\"colab-df-container\">\n",
              "      <div>\n",
              "<style scoped>\n",
              "    .dataframe tbody tr th:only-of-type {\n",
              "        vertical-align: middle;\n",
              "    }\n",
              "\n",
              "    .dataframe tbody tr th {\n",
              "        vertical-align: top;\n",
              "    }\n",
              "\n",
              "    .dataframe thead th {\n",
              "        text-align: right;\n",
              "    }\n",
              "</style>\n",
              "<table border=\"1\" class=\"dataframe\">\n",
              "  <thead>\n",
              "    <tr style=\"text-align: right;\">\n",
              "      <th></th>\n",
              "      <th>Trade</th>\n",
              "      <th>Loop</th>\n",
              "      <th>DG</th>\n",
              "      <th>RF</th>\n",
              "      <th>OOG</th>\n",
              "      <th>Load ETD</th>\n",
              "      <th>Booking Date</th>\n",
              "      <th>20DC</th>\n",
              "      <th>40DC</th>\n",
              "      <th>40HQ</th>\n",
              "      <th>...</th>\n",
              "      <th>TH CC Amount</th>\n",
              "      <th>DF PP Currency</th>\n",
              "      <th>DF PP Amount</th>\n",
              "      <th>DF CC Currency</th>\n",
              "      <th>DF CC Amount</th>\n",
              "      <th>Revenue</th>\n",
              "      <th>MC</th>\n",
              "      <th>MC per TEU</th>\n",
              "      <th>Released Teus</th>\n",
              "      <th>TTL Weight.1</th>\n",
              "    </tr>\n",
              "  </thead>\n",
              "  <tbody>\n",
              "    <tr>\n",
              "      <th>0</th>\n",
              "      <td>IAPS</td>\n",
              "      <td>SE8</td>\n",
              "      <td>NaN</td>\n",
              "      <td>NaN</td>\n",
              "      <td>NaN</td>\n",
              "      <td>2021-11-13 14:30:00</td>\n",
              "      <td>2021-10-28 11:52:06</td>\n",
              "      <td>5.0</td>\n",
              "      <td>0.0</td>\n",
              "      <td>0.0</td>\n",
              "      <td>...</td>\n",
              "      <td>2365.0</td>\n",
              "      <td>VND</td>\n",
              "      <td>950000.0</td>\n",
              "      <td>MYR</td>\n",
              "      <td>210.0</td>\n",
              "      <td>2206.08</td>\n",
              "      <td>1678.23</td>\n",
              "      <td>335.65</td>\n",
              "      <td>5</td>\n",
              "      <td>111430.0</td>\n",
              "    </tr>\n",
              "    <tr>\n",
              "      <th>1</th>\n",
              "      <td>IAPS</td>\n",
              "      <td>SE8</td>\n",
              "      <td>NaN</td>\n",
              "      <td>NaN</td>\n",
              "      <td>NaN</td>\n",
              "      <td>2021-11-13 14:30:00</td>\n",
              "      <td>2021-10-28 11:54:57</td>\n",
              "      <td>1.0</td>\n",
              "      <td>0.0</td>\n",
              "      <td>0.0</td>\n",
              "      <td>...</td>\n",
              "      <td>95.0</td>\n",
              "      <td>VND</td>\n",
              "      <td>950000.0</td>\n",
              "      <td>IDR</td>\n",
              "      <td>100000.0</td>\n",
              "      <td>712.23</td>\n",
              "      <td>454.97</td>\n",
              "      <td>454.97</td>\n",
              "      <td>1</td>\n",
              "      <td>3024.0</td>\n",
              "    </tr>\n",
              "    <tr>\n",
              "      <th>2</th>\n",
              "      <td>IAPS</td>\n",
              "      <td>SE8</td>\n",
              "      <td>NaN</td>\n",
              "      <td>NaN</td>\n",
              "      <td>NaN</td>\n",
              "      <td>2021-11-13 14:30:00</td>\n",
              "      <td>2021-10-28 14:24:53</td>\n",
              "      <td>2.0</td>\n",
              "      <td>0.0</td>\n",
              "      <td>0.0</td>\n",
              "      <td>...</td>\n",
              "      <td>NaN</td>\n",
              "      <td>VND</td>\n",
              "      <td>950000.0</td>\n",
              "      <td>IDR</td>\n",
              "      <td>100000.0</td>\n",
              "      <td>1435.66</td>\n",
              "      <td>769.56</td>\n",
              "      <td>384.78</td>\n",
              "      <td>2</td>\n",
              "      <td>48790.0</td>\n",
              "    </tr>\n",
              "    <tr>\n",
              "      <th>3</th>\n",
              "      <td>IAPS</td>\n",
              "      <td>SE8</td>\n",
              "      <td>NaN</td>\n",
              "      <td>NaN</td>\n",
              "      <td>NaN</td>\n",
              "      <td>2021-11-13 14:30:00</td>\n",
              "      <td>2021-10-28 14:43:34</td>\n",
              "      <td>4.0</td>\n",
              "      <td>0.0</td>\n",
              "      <td>0.0</td>\n",
              "      <td>...</td>\n",
              "      <td>600.0</td>\n",
              "      <td>VND</td>\n",
              "      <td>950000.0</td>\n",
              "      <td>USD</td>\n",
              "      <td>65.0</td>\n",
              "      <td>3900.45</td>\n",
              "      <td>1673.45</td>\n",
              "      <td>418.36</td>\n",
              "      <td>4</td>\n",
              "      <td>64000.0</td>\n",
              "    </tr>\n",
              "    <tr>\n",
              "      <th>4</th>\n",
              "      <td>TPEB</td>\n",
              "      <td>SE8</td>\n",
              "      <td>NaN</td>\n",
              "      <td>NaN</td>\n",
              "      <td>NaN</td>\n",
              "      <td>2021-11-13 14:30:00</td>\n",
              "      <td>2021-10-28 14:37:32</td>\n",
              "      <td>0.0</td>\n",
              "      <td>0.0</td>\n",
              "      <td>2.0</td>\n",
              "      <td>...</td>\n",
              "      <td>NaN</td>\n",
              "      <td>VND</td>\n",
              "      <td>950000.0</td>\n",
              "      <td>NaN</td>\n",
              "      <td>NaN</td>\n",
              "      <td>31686.37</td>\n",
              "      <td>28272.90</td>\n",
              "      <td>7068.23</td>\n",
              "      <td>2</td>\n",
              "      <td>47840.0</td>\n",
              "    </tr>\n",
              "  </tbody>\n",
              "</table>\n",
              "<p>5 rows × 34 columns</p>\n",
              "</div>\n",
              "      <button class=\"colab-df-convert\" onclick=\"convertToInteractive('df-27a51acf-6ffe-40c8-8dc4-264b2929f0c1')\"\n",
              "              title=\"Convert this dataframe to an interactive table.\"\n",
              "              style=\"display:none;\">\n",
              "        \n",
              "  <svg xmlns=\"http://www.w3.org/2000/svg\" height=\"24px\"viewBox=\"0 0 24 24\"\n",
              "       width=\"24px\">\n",
              "    <path d=\"M0 0h24v24H0V0z\" fill=\"none\"/>\n",
              "    <path d=\"M18.56 5.44l.94 2.06.94-2.06 2.06-.94-2.06-.94-.94-2.06-.94 2.06-2.06.94zm-11 1L8.5 8.5l.94-2.06 2.06-.94-2.06-.94L8.5 2.5l-.94 2.06-2.06.94zm10 10l.94 2.06.94-2.06 2.06-.94-2.06-.94-.94-2.06-.94 2.06-2.06.94z\"/><path d=\"M17.41 7.96l-1.37-1.37c-.4-.4-.92-.59-1.43-.59-.52 0-1.04.2-1.43.59L10.3 9.45l-7.72 7.72c-.78.78-.78 2.05 0 2.83L4 21.41c.39.39.9.59 1.41.59.51 0 1.02-.2 1.41-.59l7.78-7.78 2.81-2.81c.8-.78.8-2.07 0-2.86zM5.41 20L4 18.59l7.72-7.72 1.47 1.35L5.41 20z\"/>\n",
              "  </svg>\n",
              "      </button>\n",
              "      \n",
              "  <style>\n",
              "    .colab-df-container {\n",
              "      display:flex;\n",
              "      flex-wrap:wrap;\n",
              "      gap: 12px;\n",
              "    }\n",
              "\n",
              "    .colab-df-convert {\n",
              "      background-color: #E8F0FE;\n",
              "      border: none;\n",
              "      border-radius: 50%;\n",
              "      cursor: pointer;\n",
              "      display: none;\n",
              "      fill: #1967D2;\n",
              "      height: 32px;\n",
              "      padding: 0 0 0 0;\n",
              "      width: 32px;\n",
              "    }\n",
              "\n",
              "    .colab-df-convert:hover {\n",
              "      background-color: #E2EBFA;\n",
              "      box-shadow: 0px 1px 2px rgba(60, 64, 67, 0.3), 0px 1px 3px 1px rgba(60, 64, 67, 0.15);\n",
              "      fill: #174EA6;\n",
              "    }\n",
              "\n",
              "    [theme=dark] .colab-df-convert {\n",
              "      background-color: #3B4455;\n",
              "      fill: #D2E3FC;\n",
              "    }\n",
              "\n",
              "    [theme=dark] .colab-df-convert:hover {\n",
              "      background-color: #434B5C;\n",
              "      box-shadow: 0px 1px 3px 1px rgba(0, 0, 0, 0.15);\n",
              "      filter: drop-shadow(0px 1px 2px rgba(0, 0, 0, 0.3));\n",
              "      fill: #FFFFFF;\n",
              "    }\n",
              "  </style>\n",
              "\n",
              "      <script>\n",
              "        const buttonEl =\n",
              "          document.querySelector('#df-27a51acf-6ffe-40c8-8dc4-264b2929f0c1 button.colab-df-convert');\n",
              "        buttonEl.style.display =\n",
              "          google.colab.kernel.accessAllowed ? 'block' : 'none';\n",
              "\n",
              "        async function convertToInteractive(key) {\n",
              "          const element = document.querySelector('#df-27a51acf-6ffe-40c8-8dc4-264b2929f0c1');\n",
              "          const dataTable =\n",
              "            await google.colab.kernel.invokeFunction('convertToInteractive',\n",
              "                                                     [key], {});\n",
              "          if (!dataTable) return;\n",
              "\n",
              "          const docLinkHtml = 'Like what you see? Visit the ' +\n",
              "            '<a target=\"_blank\" href=https://colab.research.google.com/notebooks/data_table.ipynb>data table notebook</a>'\n",
              "            + ' to learn more about interactive tables.';\n",
              "          element.innerHTML = '';\n",
              "          dataTable['output_type'] = 'display_data';\n",
              "          await google.colab.output.renderOutput(dataTable, element);\n",
              "          const docLink = document.createElement('div');\n",
              "          docLink.innerHTML = docLinkHtml;\n",
              "          element.appendChild(docLink);\n",
              "        }\n",
              "      </script>\n",
              "    </div>\n",
              "  </div>\n",
              "  "
            ]
          },
          "metadata": {},
          "execution_count": 8
        }
      ],
      "source": [
        "df.head()"
      ]
    },
    {
      "cell_type": "code",
      "execution_count": 9,
      "metadata": {
        "colab": {
          "base_uri": "https://localhost:8080/"
        },
        "id": "UWQoR3QdA7_g",
        "outputId": "a1701a5e-0295-41b9-ad01-088ef9324c91"
      },
      "outputs": [
        {
          "output_type": "stream",
          "name": "stdout",
          "text": [
            "<class 'pandas.core.frame.DataFrame'>\n",
            "Int64Index: 63222 entries, 0 to 29520\n",
            "Data columns (total 34 columns):\n",
            " #   Column          Non-Null Count  Dtype         \n",
            "---  ------          --------------  -----         \n",
            " 0   Trade           63222 non-null  object        \n",
            " 1   Loop            63027 non-null  object        \n",
            " 2   DG              329 non-null    object        \n",
            " 3   RF              203 non-null    object        \n",
            " 4   OOG             60 non-null     object        \n",
            " 5   Load ETD        63222 non-null  datetime64[ns]\n",
            " 6   Booking Date    63222 non-null  datetime64[ns]\n",
            " 7   20DC            63221 non-null  float64       \n",
            " 8   40DC            63221 non-null  float64       \n",
            " 9   40HQ            63221 non-null  float64       \n",
            " 10  45HQ            33700 non-null  float64       \n",
            " 11  20RF            33707 non-null  float64       \n",
            " 12  40RQ            33801 non-null  float64       \n",
            " 13  20FO            33706 non-null  float64       \n",
            " 14  40FO            33707 non-null  float64       \n",
            " 15  20FC            33718 non-null  float64       \n",
            " 16  40FC            33706 non-null  float64       \n",
            " 17  TTL Teus        63222 non-null  int64         \n",
            " 18  TTL Weight      63222 non-null  float64       \n",
            " 19  MC Status       63211 non-null  object        \n",
            " 20  TTL USD Amount  62294 non-null  float64       \n",
            " 21  TH PP Currency  38168 non-null  object        \n",
            " 22  TH PP Amount    38168 non-null  float64       \n",
            " 23  TH CC Currency  39992 non-null  object        \n",
            " 24  TH CC Amount    39992 non-null  float64       \n",
            " 25  DF PP Currency  54909 non-null  object        \n",
            " 26  DF PP Amount    54909 non-null  float64       \n",
            " 27  DF CC Currency  21823 non-null  object        \n",
            " 28  DF CC Amount    21823 non-null  float64       \n",
            " 29  Revenue         62481 non-null  float64       \n",
            " 30  MC              60853 non-null  float64       \n",
            " 31  MC per TEU      60853 non-null  float64       \n",
            " 32  Released Teus   63222 non-null  int64         \n",
            " 33  TTL Weight.1    63222 non-null  float64       \n",
            "dtypes: datetime64[ns](2), float64(20), int64(2), object(10)\n",
            "memory usage: 16.9+ MB\n"
          ]
        }
      ],
      "source": [
        "df.info()"
      ]
    },
    {
      "cell_type": "code",
      "execution_count": 10,
      "metadata": {
        "colab": {
          "base_uri": "https://localhost:8080/"
        },
        "id": "7LstUGlI6RhA",
        "outputId": "41a8a2ea-89ac-4b15-ee66-8eedd6452f0d"
      },
      "outputs": [
        {
          "output_type": "execute_result",
          "data": {
            "text/plain": [
              "(63222, 34)"
            ]
          },
          "metadata": {},
          "execution_count": 10
        }
      ],
      "source": [
        "df.shape"
      ]
    },
    {
      "cell_type": "code",
      "execution_count": 11,
      "metadata": {
        "colab": {
          "base_uri": "https://localhost:8080/"
        },
        "id": "qWXhvjk9tMQF",
        "outputId": "c06283f3-46fd-4236-944c-50816e4e9086"
      },
      "outputs": [
        {
          "output_type": "execute_result",
          "data": {
            "text/plain": [
              "Trade                 0\n",
              "Loop                195\n",
              "DG                62893\n",
              "RF                63019\n",
              "OOG               63162\n",
              "Load ETD              0\n",
              "Booking Date          0\n",
              "20DC                  1\n",
              "40DC                  1\n",
              "40HQ                  1\n",
              "45HQ              29522\n",
              "20RF              29515\n",
              "40RQ              29421\n",
              "20FO              29516\n",
              "40FO              29515\n",
              "20FC              29504\n",
              "40FC              29516\n",
              "TTL Teus              0\n",
              "TTL Weight            0\n",
              "MC Status            11\n",
              "TTL USD Amount      928\n",
              "TH PP Currency    25054\n",
              "TH PP Amount      25054\n",
              "TH CC Currency    23230\n",
              "TH CC Amount      23230\n",
              "DF PP Currency     8313\n",
              "DF PP Amount       8313\n",
              "DF CC Currency    41399\n",
              "DF CC Amount      41399\n",
              "Revenue             741\n",
              "MC                 2369\n",
              "MC per TEU         2369\n",
              "Released Teus         0\n",
              "TTL Weight.1          0\n",
              "dtype: int64"
            ]
          },
          "metadata": {},
          "execution_count": 11
        }
      ],
      "source": [
        "df.isna().sum()"
      ]
    },
    {
      "cell_type": "code",
      "execution_count": 12,
      "metadata": {
        "id": "yZiqsm1TtG1v"
      },
      "outputs": [],
      "source": [
        "# Drop Nan in Revenue\n",
        "df = df.dropna(subset = ['TTL USD Amount'])\n",
        "df = df.dropna(subset = ['MC Status', 'Revenue'])"
      ]
    },
    {
      "cell_type": "code",
      "source": [
        "df = df.sort_values(by=['Booking Date', 'Load ETD'])\n",
        "df = df.reset_index(drop=True)\n",
        "df.head()"
      ],
      "metadata": {
        "colab": {
          "base_uri": "https://localhost:8080/",
          "height": 490
        },
        "id": "YXLk9aTqBrJx",
        "outputId": "d3e4e7b0-331b-4766-db16-fefeefbea236"
      },
      "execution_count": 13,
      "outputs": [
        {
          "output_type": "execute_result",
          "data": {
            "text/plain": [
              "  Trade Loop   DG   RF  OOG            Load ETD        Booking Date  20DC  \\\n",
              "0  IAPS  TSE  NaN  NaN  NaN 2021-01-07 10:30:00 2020-10-12 10:42:18   1.0   \n",
              "1  TPEB  SE8  NaN  NaN  NaN 2021-01-14 08:30:00 2020-10-22 16:52:48   0.0   \n",
              "2  TPEB  SE8  NaN  NaN  NaN 2021-01-14 08:30:00 2020-10-28 14:16:46   0.0   \n",
              "3  TPEB  SE8  NaN  NaN  NaN 2021-01-14 08:30:00 2020-11-09 14:56:26   0.0   \n",
              "4  MEDW  SE8  NaN  NaN  NaN 2021-01-14 08:30:00 2020-11-09 15:02:19   1.0   \n",
              "\n",
              "   40DC  40HQ  ...  TH CC Amount  DF PP Currency  DF PP Amount  \\\n",
              "0   0.0   0.0  ...        5600.0             NaN           NaN   \n",
              "1   0.0   2.0  ...           NaN             VND      900000.0   \n",
              "2   0.0   1.0  ...           NaN             VND      900000.0   \n",
              "3   1.0   0.0  ...           NaN             VND      900000.0   \n",
              "4   0.0   0.0  ...         180.0             VND      900000.0   \n",
              "\n",
              "   DF CC Currency  DF CC Amount  Revenue       MC  MC per TEU  Released Teus  \\\n",
              "0             TWD        1800.0   368.75   181.01      181.01              1   \n",
              "1             NaN           NaN  8297.66  3920.35      980.09              2   \n",
              "2             NaN           NaN  4828.30  3778.20     1889.10              1   \n",
              "3             NaN           NaN  4973.29  3851.14     1925.57              1   \n",
              "4             NaN           NaN  2003.23  1452.54     1452.54              1   \n",
              "\n",
              "  TTL Weight.1  \n",
              "0      4444.58  \n",
              "1     33100.52  \n",
              "2     16650.00  \n",
              "3     23682.16  \n",
              "4     12118.00  \n",
              "\n",
              "[5 rows x 34 columns]"
            ],
            "text/html": [
              "\n",
              "  <div id=\"df-3ae4685e-b9c4-427e-8a5d-7aa1d71efad4\">\n",
              "    <div class=\"colab-df-container\">\n",
              "      <div>\n",
              "<style scoped>\n",
              "    .dataframe tbody tr th:only-of-type {\n",
              "        vertical-align: middle;\n",
              "    }\n",
              "\n",
              "    .dataframe tbody tr th {\n",
              "        vertical-align: top;\n",
              "    }\n",
              "\n",
              "    .dataframe thead th {\n",
              "        text-align: right;\n",
              "    }\n",
              "</style>\n",
              "<table border=\"1\" class=\"dataframe\">\n",
              "  <thead>\n",
              "    <tr style=\"text-align: right;\">\n",
              "      <th></th>\n",
              "      <th>Trade</th>\n",
              "      <th>Loop</th>\n",
              "      <th>DG</th>\n",
              "      <th>RF</th>\n",
              "      <th>OOG</th>\n",
              "      <th>Load ETD</th>\n",
              "      <th>Booking Date</th>\n",
              "      <th>20DC</th>\n",
              "      <th>40DC</th>\n",
              "      <th>40HQ</th>\n",
              "      <th>...</th>\n",
              "      <th>TH CC Amount</th>\n",
              "      <th>DF PP Currency</th>\n",
              "      <th>DF PP Amount</th>\n",
              "      <th>DF CC Currency</th>\n",
              "      <th>DF CC Amount</th>\n",
              "      <th>Revenue</th>\n",
              "      <th>MC</th>\n",
              "      <th>MC per TEU</th>\n",
              "      <th>Released Teus</th>\n",
              "      <th>TTL Weight.1</th>\n",
              "    </tr>\n",
              "  </thead>\n",
              "  <tbody>\n",
              "    <tr>\n",
              "      <th>0</th>\n",
              "      <td>IAPS</td>\n",
              "      <td>TSE</td>\n",
              "      <td>NaN</td>\n",
              "      <td>NaN</td>\n",
              "      <td>NaN</td>\n",
              "      <td>2021-01-07 10:30:00</td>\n",
              "      <td>2020-10-12 10:42:18</td>\n",
              "      <td>1.0</td>\n",
              "      <td>0.0</td>\n",
              "      <td>0.0</td>\n",
              "      <td>...</td>\n",
              "      <td>5600.0</td>\n",
              "      <td>NaN</td>\n",
              "      <td>NaN</td>\n",
              "      <td>TWD</td>\n",
              "      <td>1800.0</td>\n",
              "      <td>368.75</td>\n",
              "      <td>181.01</td>\n",
              "      <td>181.01</td>\n",
              "      <td>1</td>\n",
              "      <td>4444.58</td>\n",
              "    </tr>\n",
              "    <tr>\n",
              "      <th>1</th>\n",
              "      <td>TPEB</td>\n",
              "      <td>SE8</td>\n",
              "      <td>NaN</td>\n",
              "      <td>NaN</td>\n",
              "      <td>NaN</td>\n",
              "      <td>2021-01-14 08:30:00</td>\n",
              "      <td>2020-10-22 16:52:48</td>\n",
              "      <td>0.0</td>\n",
              "      <td>0.0</td>\n",
              "      <td>2.0</td>\n",
              "      <td>...</td>\n",
              "      <td>NaN</td>\n",
              "      <td>VND</td>\n",
              "      <td>900000.0</td>\n",
              "      <td>NaN</td>\n",
              "      <td>NaN</td>\n",
              "      <td>8297.66</td>\n",
              "      <td>3920.35</td>\n",
              "      <td>980.09</td>\n",
              "      <td>2</td>\n",
              "      <td>33100.52</td>\n",
              "    </tr>\n",
              "    <tr>\n",
              "      <th>2</th>\n",
              "      <td>TPEB</td>\n",
              "      <td>SE8</td>\n",
              "      <td>NaN</td>\n",
              "      <td>NaN</td>\n",
              "      <td>NaN</td>\n",
              "      <td>2021-01-14 08:30:00</td>\n",
              "      <td>2020-10-28 14:16:46</td>\n",
              "      <td>0.0</td>\n",
              "      <td>0.0</td>\n",
              "      <td>1.0</td>\n",
              "      <td>...</td>\n",
              "      <td>NaN</td>\n",
              "      <td>VND</td>\n",
              "      <td>900000.0</td>\n",
              "      <td>NaN</td>\n",
              "      <td>NaN</td>\n",
              "      <td>4828.30</td>\n",
              "      <td>3778.20</td>\n",
              "      <td>1889.10</td>\n",
              "      <td>1</td>\n",
              "      <td>16650.00</td>\n",
              "    </tr>\n",
              "    <tr>\n",
              "      <th>3</th>\n",
              "      <td>TPEB</td>\n",
              "      <td>SE8</td>\n",
              "      <td>NaN</td>\n",
              "      <td>NaN</td>\n",
              "      <td>NaN</td>\n",
              "      <td>2021-01-14 08:30:00</td>\n",
              "      <td>2020-11-09 14:56:26</td>\n",
              "      <td>0.0</td>\n",
              "      <td>1.0</td>\n",
              "      <td>0.0</td>\n",
              "      <td>...</td>\n",
              "      <td>NaN</td>\n",
              "      <td>VND</td>\n",
              "      <td>900000.0</td>\n",
              "      <td>NaN</td>\n",
              "      <td>NaN</td>\n",
              "      <td>4973.29</td>\n",
              "      <td>3851.14</td>\n",
              "      <td>1925.57</td>\n",
              "      <td>1</td>\n",
              "      <td>23682.16</td>\n",
              "    </tr>\n",
              "    <tr>\n",
              "      <th>4</th>\n",
              "      <td>MEDW</td>\n",
              "      <td>SE8</td>\n",
              "      <td>NaN</td>\n",
              "      <td>NaN</td>\n",
              "      <td>NaN</td>\n",
              "      <td>2021-01-14 08:30:00</td>\n",
              "      <td>2020-11-09 15:02:19</td>\n",
              "      <td>1.0</td>\n",
              "      <td>0.0</td>\n",
              "      <td>0.0</td>\n",
              "      <td>...</td>\n",
              "      <td>180.0</td>\n",
              "      <td>VND</td>\n",
              "      <td>900000.0</td>\n",
              "      <td>NaN</td>\n",
              "      <td>NaN</td>\n",
              "      <td>2003.23</td>\n",
              "      <td>1452.54</td>\n",
              "      <td>1452.54</td>\n",
              "      <td>1</td>\n",
              "      <td>12118.00</td>\n",
              "    </tr>\n",
              "  </tbody>\n",
              "</table>\n",
              "<p>5 rows × 34 columns</p>\n",
              "</div>\n",
              "      <button class=\"colab-df-convert\" onclick=\"convertToInteractive('df-3ae4685e-b9c4-427e-8a5d-7aa1d71efad4')\"\n",
              "              title=\"Convert this dataframe to an interactive table.\"\n",
              "              style=\"display:none;\">\n",
              "        \n",
              "  <svg xmlns=\"http://www.w3.org/2000/svg\" height=\"24px\"viewBox=\"0 0 24 24\"\n",
              "       width=\"24px\">\n",
              "    <path d=\"M0 0h24v24H0V0z\" fill=\"none\"/>\n",
              "    <path d=\"M18.56 5.44l.94 2.06.94-2.06 2.06-.94-2.06-.94-.94-2.06-.94 2.06-2.06.94zm-11 1L8.5 8.5l.94-2.06 2.06-.94-2.06-.94L8.5 2.5l-.94 2.06-2.06.94zm10 10l.94 2.06.94-2.06 2.06-.94-2.06-.94-.94-2.06-.94 2.06-2.06.94z\"/><path d=\"M17.41 7.96l-1.37-1.37c-.4-.4-.92-.59-1.43-.59-.52 0-1.04.2-1.43.59L10.3 9.45l-7.72 7.72c-.78.78-.78 2.05 0 2.83L4 21.41c.39.39.9.59 1.41.59.51 0 1.02-.2 1.41-.59l7.78-7.78 2.81-2.81c.8-.78.8-2.07 0-2.86zM5.41 20L4 18.59l7.72-7.72 1.47 1.35L5.41 20z\"/>\n",
              "  </svg>\n",
              "      </button>\n",
              "      \n",
              "  <style>\n",
              "    .colab-df-container {\n",
              "      display:flex;\n",
              "      flex-wrap:wrap;\n",
              "      gap: 12px;\n",
              "    }\n",
              "\n",
              "    .colab-df-convert {\n",
              "      background-color: #E8F0FE;\n",
              "      border: none;\n",
              "      border-radius: 50%;\n",
              "      cursor: pointer;\n",
              "      display: none;\n",
              "      fill: #1967D2;\n",
              "      height: 32px;\n",
              "      padding: 0 0 0 0;\n",
              "      width: 32px;\n",
              "    }\n",
              "\n",
              "    .colab-df-convert:hover {\n",
              "      background-color: #E2EBFA;\n",
              "      box-shadow: 0px 1px 2px rgba(60, 64, 67, 0.3), 0px 1px 3px 1px rgba(60, 64, 67, 0.15);\n",
              "      fill: #174EA6;\n",
              "    }\n",
              "\n",
              "    [theme=dark] .colab-df-convert {\n",
              "      background-color: #3B4455;\n",
              "      fill: #D2E3FC;\n",
              "    }\n",
              "\n",
              "    [theme=dark] .colab-df-convert:hover {\n",
              "      background-color: #434B5C;\n",
              "      box-shadow: 0px 1px 3px 1px rgba(0, 0, 0, 0.15);\n",
              "      filter: drop-shadow(0px 1px 2px rgba(0, 0, 0, 0.3));\n",
              "      fill: #FFFFFF;\n",
              "    }\n",
              "  </style>\n",
              "\n",
              "      <script>\n",
              "        const buttonEl =\n",
              "          document.querySelector('#df-3ae4685e-b9c4-427e-8a5d-7aa1d71efad4 button.colab-df-convert');\n",
              "        buttonEl.style.display =\n",
              "          google.colab.kernel.accessAllowed ? 'block' : 'none';\n",
              "\n",
              "        async function convertToInteractive(key) {\n",
              "          const element = document.querySelector('#df-3ae4685e-b9c4-427e-8a5d-7aa1d71efad4');\n",
              "          const dataTable =\n",
              "            await google.colab.kernel.invokeFunction('convertToInteractive',\n",
              "                                                     [key], {});\n",
              "          if (!dataTable) return;\n",
              "\n",
              "          const docLinkHtml = 'Like what you see? Visit the ' +\n",
              "            '<a target=\"_blank\" href=https://colab.research.google.com/notebooks/data_table.ipynb>data table notebook</a>'\n",
              "            + ' to learn more about interactive tables.';\n",
              "          element.innerHTML = '';\n",
              "          dataTable['output_type'] = 'display_data';\n",
              "          await google.colab.output.renderOutput(dataTable, element);\n",
              "          const docLink = document.createElement('div');\n",
              "          docLink.innerHTML = docLinkHtml;\n",
              "          element.appendChild(docLink);\n",
              "        }\n",
              "      </script>\n",
              "    </div>\n",
              "  </div>\n",
              "  "
            ]
          },
          "metadata": {},
          "execution_count": 13
        }
      ]
    },
    {
      "cell_type": "code",
      "execution_count": 14,
      "metadata": {
        "colab": {
          "base_uri": "https://localhost:8080/"
        },
        "id": "WOQImoFgZtPr",
        "outputId": "ef49c1cd-83c5-4c46-aef7-c1bf0dea095e"
      },
      "outputs": [
        {
          "output_type": "execute_result",
          "data": {
            "text/plain": [
              "{'ASCA',\n",
              " 'AUSS',\n",
              " 'ESAW',\n",
              " 'IAPS',\n",
              " 'IRAW',\n",
              " 'MEDW',\n",
              " 'NCPW',\n",
              " 'RASW',\n",
              " 'SARA',\n",
              " 'TPEB',\n",
              " 'WSAE'}"
            ]
          },
          "metadata": {},
          "execution_count": 14
        }
      ],
      "source": [
        "set(df['Trade'])"
      ]
    },
    {
      "cell_type": "markdown",
      "metadata": {
        "id": "eQG910QYB10s"
      },
      "source": [
        "- Models used: Multiple Linear Regression, Random Forest, XGBoost & Deep Neural Network \n",
        "\n",
        "- Performance metrics: MSE, MAE, Adjusted R^2"
      ]
    },
    {
      "cell_type": "code",
      "execution_count": 15,
      "metadata": {
        "id": "JNxeOEt3tOLQ"
      },
      "outputs": [],
      "source": [
        "## Set up environment\n",
        "\n",
        "from sklearn.model_selection import train_test_split, cross_val_score\n",
        "from sklearn.pipeline import Pipeline\n",
        "from sklearn.compose import ColumnTransformer\n",
        "from sklearn.impute import SimpleImputer\n",
        "from sklearn.preprocessing import OneHotEncoder\n",
        "\n",
        "# Import algorithms:\n",
        "from sklearn.linear_model import LinearRegression\n",
        "from sklearn.ensemble import RandomForestRegressor\n",
        "import xgboost as xgb\n",
        "from sklearn.neural_network import MLPRegressor\n",
        "\n",
        "# Import metrics:\n",
        "from sklearn.metrics import mean_absolute_error, mean_squared_error, r2_score\n"
      ]
    },
    {
      "cell_type": "markdown",
      "metadata": {
        "id": "xz1FynqNtsts"
      },
      "source": [
        "Test Target: \"Freight Rate\""
      ]
    },
    {
      "cell_type": "code",
      "execution_count": 16,
      "metadata": {
        "id": "_7qvaQpatVe_"
      },
      "outputs": [],
      "source": [
        "# Split df into X & y\n",
        "X = df.drop(\"TTL USD Amount\", axis = 1)\n",
        "y = df[\"TTL USD Amount\"]\n",
        "\n",
        "# Train-test split\n",
        "X_train, X_test, y_train, y_test = train_test_split(X, y, test_size = 0.3, shuffle=False)\n",
        "\n",
        "categorical_feature = ['Loop', 'Trade', 'MC Status']\n",
        "categorical_transformer = Pipeline(steps = [\n",
        "    ('imputer', SimpleImputer(strategy='most_frequent')),\n",
        "    (\"onehot\", OneHotEncoder(handle_unknown = 'ignore'))]) \n",
        "\n",
        "freight_features = ['DG', 'RF', 'OOG'] # categorical\n",
        "freight_transformer = Pipeline(steps = [\n",
        "    ('imputer', SimpleImputer(strategy=\"constant\", fill_value='N')),\n",
        "    (\"onehot\", OneHotEncoder(handle_unknown = 'ignore'))\n",
        "])\n",
        "\n",
        "quantity_features = ['20DC',\n",
        "      '40DC', '40HQ', '45HQ', '20RF', '40RQ', '20FO', '40FO', '20FC', '40FC',\n",
        "      'Revenue', 'TH PP Amount', 'TH CC Amount', 'DF PP Amount', 'DF CC Amount', 'MC', 'MC per TEU']\n",
        "quantity_transformer = Pipeline(steps = [\n",
        "    (\"imputer\", SimpleImputer(strategy=\"constant\", fill_value= 0))\n",
        "])\n",
        "\n",
        "currency_features = ['TH PP Currency', 'TH CC Currency', 'DF PP Currency', 'DF CC Currency']\n",
        "currency_transformer = Pipeline(steps = [\n",
        "    (\"imputer\", SimpleImputer(strategy = \"constant\", fill_value = \"None\")),\n",
        "    (\"onehot\", OneHotEncoder(handle_unknown = 'ignore'))\n",
        "])\n",
        "\n",
        "# Preprocessor\n",
        "preprocessor = ColumnTransformer(transformers=[(\"cat\", categorical_transformer, categorical_feature), (\"freight\", freight_transformer, freight_features),\n",
        "                                               (\"quant\", quantity_transformer, quantity_features), (\"curr\", currency_transformer, currency_features)])"
      ]
    },
    {
      "cell_type": "code",
      "execution_count": 17,
      "metadata": {
        "colab": {
          "base_uri": "https://localhost:8080/"
        },
        "id": "KftLp_t2oI1O",
        "outputId": "bd015a24-e544-4f50-bea8-2607856704c2"
      },
      "outputs": [
        {
          "output_type": "execute_result",
          "data": {
            "text/plain": [
              "(0.99926259518981, 110.87112510587353, 114369.27196295204)"
            ]
          },
          "metadata": {},
          "execution_count": 17
        }
      ],
      "source": [
        "model_rf=Pipeline(steps=[(\"preprocessor\", preprocessor),\n",
        "                      (\"model\", RandomForestRegressor())])\n",
        "\n",
        "model_rf.fit(X_train,y_train)\n",
        "test_score_rf = model_rf.score(X_test, y_test)\n",
        "y_preds_rf = model_rf.predict(X_test)\n",
        "# csv_rf = cross_val_score(model_rf, X_train, y_train, cv =5)\n",
        "\n",
        "test_score_rf, mean_absolute_error(y_test, y_preds_rf), mean_squared_error(y_test, y_preds_rf)"
      ]
    },
    {
      "cell_type": "code",
      "execution_count": 18,
      "metadata": {
        "colab": {
          "base_uri": "https://localhost:8080/",
          "height": 472
        },
        "id": "RrrWrQVko83t",
        "outputId": "7a4e2d16-80d5-4462-dadb-5a990ba19f24"
      },
      "outputs": [
        {
          "output_type": "display_data",
          "data": {
            "text/plain": [
              "<Figure size 640x480 with 1 Axes>"
            ],
            "image/png": "[encoded data removed]"
          },
          "metadata": {}
        }
      ],
      "source": [
        "plt.scatter(y_test, y_preds_rf)\n",
        "plt.xlabel('Actual Values')\n",
        "plt.ylabel('Predicted Values')\n",
        "plt.title('Random Forest Regression')\n",
        "plt.show()"
      ]
    },
    {
      "cell_type": "code",
      "execution_count": 19,
      "metadata": {
        "colab": {
          "base_uri": "https://localhost:8080/"
        },
        "id": "AOHrdwXKVU6c",
        "outputId": "12711ad4-6f6b-464a-b02b-5f6d80b45c53"
      },
      "outputs": [
        {
          "output_type": "execute_result",
          "data": {
            "text/plain": [
              "(0.9273231447151462, 154.17621833392676, 11271962.038521482)"
            ]
          },
          "metadata": {},
          "execution_count": 19
        }
      ],
      "source": [
        "# Linear Regression \n",
        "model_ln=Pipeline(steps=[(\"preprocessor\", preprocessor),\n",
        "                      (\"model\", LinearRegression())])\n",
        "\n",
        "model_ln.fit(X_train,y_train)\n",
        "test_score_ln = model_ln.score(X_test, y_test)\n",
        "y_preds_ln = model_ln.predict(X_test)\n",
        "# csv_ln = cross_val_score(model_ln, X_train, y_train, cv =5)\n",
        "\n",
        "test_score_ln, mean_absolute_error(y_test, y_preds_ln), mean_squared_error(y_test, y_preds_ln)"
      ]
    },
    {
      "cell_type": "code",
      "execution_count": 20,
      "metadata": {
        "colab": {
          "base_uri": "https://localhost:8080/",
          "height": 472
        },
        "id": "ZJPltrLjYSfn",
        "outputId": "19ae8c39-5add-4243-c606-2fd7642d94df"
      },
      "outputs": [
        {
          "output_type": "display_data",
          "data": {
            "text/plain": [
              "<Figure size 640x480 with 1 Axes>"
            ],
            "image/png": "[encoded data removed]"
          },
          "metadata": {}
        }
      ],
      "source": [
        "plt.scatter(y_test, y_preds_ln)\n",
        "plt.xlabel('Actual Values')\n",
        "plt.ylabel('Predicted Values')\n",
        "plt.title('Linear Regression')\n",
        "plt.show()"
      ]
    },
    {
      "cell_type": "code",
      "execution_count": 21,
      "metadata": {
        "colab": {
          "base_uri": "https://localhost:8080/"
        },
        "id": "u_s_Qa49Vs7D",
        "outputId": "1d5824b8-74a3-48a0-e1e7-b89eae463d83"
      },
      "outputs": [
        {
          "output_type": "execute_result",
          "data": {
            "text/plain": [
              "(0.999536129526368, 117.52092713764314, 71944.91766433525)"
            ]
          },
          "metadata": {},
          "execution_count": 21
        }
      ],
      "source": [
        "# XGB\n",
        "model_xgb=Pipeline(steps=[(\"preprocessor\", preprocessor),\n",
        "                      (\"model\", xgb.XGBRegressor())])\n",
        "\n",
        "model_xgb.fit(X_train,y_train)\n",
        "test_score_xgb = model_xgb.score(X_test, y_test)\n",
        "y_preds_xgb = model_xgb.predict(X_test)\n",
        "# csv_xgb = cross_val_score(model_xgb, X_train, y_train, cv =5)\n",
        "\n",
        "test_score_xgb, mean_absolute_error(y_test, y_preds_xgb), mean_squared_error(y_test, y_preds_xgb)"
      ]
    },
    {
      "cell_type": "code",
      "execution_count": 22,
      "metadata": {
        "colab": {
          "base_uri": "https://localhost:8080/",
          "height": 472
        },
        "id": "76lV8QRIYdOP",
        "outputId": "e2195a80-74fd-4aea-a26b-18f92dc88f26"
      },
      "outputs": [
        {
          "output_type": "display_data",
          "data": {
            "text/plain": [
              "<Figure size 640x480 with 1 Axes>"
            ],
            "image/png": "[encoded data removed]"
          },
          "metadata": {}
        }
      ],
      "source": [
        "plt.scatter(y_test, y_preds_xgb)\n",
        "plt.xlabel('Actual Values')\n",
        "plt.ylabel('Predicted Values')\n",
        "plt.title('XGBoost Regression')\n",
        "plt.show()"
      ]
    },
    {
      "cell_type": "code",
      "execution_count": 23,
      "metadata": {
        "colab": {
          "base_uri": "https://localhost:8080/"
        },
        "id": "i1RZ-2A5W2zo",
        "outputId": "7aff7ec4-17cc-4765-d3ee-6fb537748668"
      },
      "outputs": [
        {
          "output_type": "execute_result",
          "data": {
            "text/plain": [
              "(0.9986720410502408, 240.1915273481229, 205962.44583961755)"
            ]
          },
          "metadata": {},
          "execution_count": 23
        }
      ],
      "source": [
        "# MLP\n",
        "model_mlp=Pipeline(steps=[(\"preprocessor\", preprocessor),\n",
        "                      (\"model\", MLPRegressor(hidden_layer_sizes=(20,), max_iter=1000))])\n",
        "\n",
        "model_mlp.fit(X_train,y_train)\n",
        "test_score_mlp = model_mlp.score(X_test, y_test)\n",
        "y_preds_mlp = model_mlp.predict(X_test)\n",
        "# csv_mlp = cross_val_score(model_mlp, X_train, y_train, cv =5)\n",
        "\n",
        "test_score_mlp, mean_absolute_error(y_test, y_preds_mlp), mean_squared_error(y_test, y_preds_mlp)"
      ]
    },
    {
      "cell_type": "code",
      "execution_count": 24,
      "metadata": {
        "colab": {
          "base_uri": "https://localhost:8080/",
          "height": 472
        },
        "id": "6MVMS71WXHK1",
        "outputId": "b78f73e4-6410-4c46-cffb-321059701f5a"
      },
      "outputs": [
        {
          "output_type": "display_data",
          "data": {
            "text/plain": [
              "<Figure size 640x480 with 1 Axes>"
            ],
            "image/png": "[encoded data removed]"
          },
          "metadata": {}
        }
      ],
      "source": [
        "plt.scatter(y_test, y_preds_mlp)\n",
        "plt.xlabel('Actual Values')\n",
        "plt.ylabel('Predicted Values')\n",
        "plt.title('MLP')\n",
        "plt.show()"
      ]
    },
    {
      "cell_type": "code",
      "source": [
        "model_scores = {'Linear Regression':[0.927, 154.17, 11271962.03],\n",
        "                'Random Forest Regression': [0.999, 110.87, 114369.27],\n",
        "                'MLP': [0.998, 240.19, 205962.44],\n",
        "                'XGBoost': [0.999, 117.52, 71944.91]}\n",
        "\n",
        "result = pd.DataFrame(model_scores, index=['R2_score', 'MAE', 'MSE'])\n",
        "result = result.T\n",
        "result.index.name = 'Model'\n",
        "result"
      ],
      "metadata": {
        "colab": {
          "base_uri": "https://localhost:8080/",
          "height": 206
        },
        "id": "ZnBZwa7L6VdP",
        "outputId": "1dd51825-73d6-4774-e832-9c93f7baa157"
      },
      "execution_count": 31,
      "outputs": [
        {
          "output_type": "execute_result",
          "data": {
            "text/plain": [
              "                          R2_score     MAE          MSE\n",
              "Model                                                  \n",
              "Linear Regression            0.927  154.17  11271962.03\n",
              "Random Forest Regression     0.999  110.87    114369.27\n",
              "MLP                          0.998  240.19    205962.44\n",
              "XGBoost                      0.999  117.52     71944.91"
            ],
            "text/html": [
              "\n",
              "  <div id=\"df-f5e7b489-7b33-4144-8f72-551c5865280d\">\n",
              "    <div class=\"colab-df-container\">\n",
              "      <div>\n",
              "<style scoped>\n",
              "    .dataframe tbody tr th:only-of-type {\n",
              "        vertical-align: middle;\n",
              "    }\n",
              "\n",
              "    .dataframe tbody tr th {\n",
              "        vertical-align: top;\n",
              "    }\n",
              "\n",
              "    .dataframe thead th {\n",
              "        text-align: right;\n",
              "    }\n",
              "</style>\n",
              "<table border=\"1\" class=\"dataframe\">\n",
              "  <thead>\n",
              "    <tr style=\"text-align: right;\">\n",
              "      <th></th>\n",
              "      <th>R2_score</th>\n",
              "      <th>MAE</th>\n",
              "      <th>MSE</th>\n",
              "    </tr>\n",
              "    <tr>\n",
              "      <th>Model</th>\n",
              "      <th></th>\n",
              "      <th></th>\n",
              "      <th></th>\n",
              "    </tr>\n",
              "  </thead>\n",
              "  <tbody>\n",
              "    <tr>\n",
              "      <th>Linear Regression</th>\n",
              "      <td>0.927</td>\n",
              "      <td>154.17</td>\n",
              "      <td>11271962.03</td>\n",
              "    </tr>\n",
              "    <tr>\n",
              "      <th>Random Forest Regression</th>\n",
              "      <td>0.999</td>\n",
              "      <td>110.87</td>\n",
              "      <td>114369.27</td>\n",
              "    </tr>\n",
              "    <tr>\n",
              "      <th>MLP</th>\n",
              "      <td>0.998</td>\n",
              "      <td>240.19</td>\n",
              "      <td>205962.44</td>\n",
              "    </tr>\n",
              "    <tr>\n",
              "      <th>XGBoost</th>\n",
              "      <td>0.999</td>\n",
              "      <td>117.52</td>\n",
              "      <td>71944.91</td>\n",
              "    </tr>\n",
              "  </tbody>\n",
              "</table>\n",
              "</div>\n",
              "      <button class=\"colab-df-convert\" onclick=\"convertToInteractive('df-f5e7b489-7b33-4144-8f72-551c5865280d')\"\n",
              "              title=\"Convert this dataframe to an interactive table.\"\n",
              "              style=\"display:none;\">\n",
              "        \n",
              "  <svg xmlns=\"http://www.w3.org/2000/svg\" height=\"24px\"viewBox=\"0 0 24 24\"\n",
              "       width=\"24px\">\n",
              "    <path d=\"M0 0h24v24H0V0z\" fill=\"none\"/>\n",
              "    <path d=\"M18.56 5.44l.94 2.06.94-2.06 2.06-.94-2.06-.94-.94-2.06-.94 2.06-2.06.94zm-11 1L8.5 8.5l.94-2.06 2.06-.94-2.06-.94L8.5 2.5l-.94 2.06-2.06.94zm10 10l.94 2.06.94-2.06 2.06-.94-2.06-.94-.94-2.06-.94 2.06-2.06.94z\"/><path d=\"M17.41 7.96l-1.37-1.37c-.4-.4-.92-.59-1.43-.59-.52 0-1.04.2-1.43.59L10.3 9.45l-7.72 7.72c-.78.78-.78 2.05 0 2.83L4 21.41c.39.39.9.59 1.41.59.51 0 1.02-.2 1.41-.59l7.78-7.78 2.81-2.81c.8-.78.8-2.07 0-2.86zM5.41 20L4 18.59l7.72-7.72 1.47 1.35L5.41 20z\"/>\n",
              "  </svg>\n",
              "      </button>\n",
              "      \n",
              "  <style>\n",
              "    .colab-df-container {\n",
              "      display:flex;\n",
              "      flex-wrap:wrap;\n",
              "      gap: 12px;\n",
              "    }\n",
              "\n",
              "    .colab-df-convert {\n",
              "      background-color: #E8F0FE;\n",
              "      border: none;\n",
              "      border-radius: 50%;\n",
              "      cursor: pointer;\n",
              "      display: none;\n",
              "      fill: #1967D2;\n",
              "      height: 32px;\n",
              "      padding: 0 0 0 0;\n",
              "      width: 32px;\n",
              "    }\n",
              "\n",
              "    .colab-df-convert:hover {\n",
              "      background-color: #E2EBFA;\n",
              "      box-shadow: 0px 1px 2px rgba(60, 64, 67, 0.3), 0px 1px 3px 1px rgba(60, 64, 67, 0.15);\n",
              "      fill: #174EA6;\n",
              "    }\n",
              "\n",
              "    [theme=dark] .colab-df-convert {\n",
              "      background-color: #3B4455;\n",
              "      fill: #D2E3FC;\n",
              "    }\n",
              "\n",
              "    [theme=dark] .colab-df-convert:hover {\n",
              "      background-color: #434B5C;\n",
              "      box-shadow: 0px 1px 3px 1px rgba(0, 0, 0, 0.15);\n",
              "      filter: drop-shadow(0px 1px 2px rgba(0, 0, 0, 0.3));\n",
              "      fill: #FFFFFF;\n",
              "    }\n",
              "  </style>\n",
              "\n",
              "      <script>\n",
              "        const buttonEl =\n",
              "          document.querySelector('#df-f5e7b489-7b33-4144-8f72-551c5865280d button.colab-df-convert');\n",
              "        buttonEl.style.display =\n",
              "          google.colab.kernel.accessAllowed ? 'block' : 'none';\n",
              "\n",
              "        async function convertToInteractive(key) {\n",
              "          const element = document.querySelector('#df-f5e7b489-7b33-4144-8f72-551c5865280d');\n",
              "          const dataTable =\n",
              "            await google.colab.kernel.invokeFunction('convertToInteractive',\n",
              "                                                     [key], {});\n",
              "          if (!dataTable) return;\n",
              "\n",
              "          const docLinkHtml = 'Like what you see? Visit the ' +\n",
              "            '<a target=\"_blank\" href=https://colab.research.google.com/notebooks/data_table.ipynb>data table notebook</a>'\n",
              "            + ' to learn more about interactive tables.';\n",
              "          element.innerHTML = '';\n",
              "          dataTable['output_type'] = 'display_data';\n",
              "          await google.colab.output.renderOutput(dataTable, element);\n",
              "          const docLink = document.createElement('div');\n",
              "          docLink.innerHTML = docLinkHtml;\n",
              "          element.appendChild(docLink);\n",
              "        }\n",
              "      </script>\n",
              "    </div>\n",
              "  </div>\n",
              "  "
            ]
          },
          "metadata": {},
          "execution_count": 31
        }
      ]
    },
    {
      "cell_type": "code",
      "source": [
        "plt.barh(result.index, result['R2_score'], color = 'green')\n",
        "plt.title('R-squared score')\n",
        "plt.show()"
      ],
      "metadata": {
        "colab": {
          "base_uri": "https://localhost:8080/",
          "height": 452
        },
        "id": "4SiPGUbY9QRy",
        "outputId": "7af2cd1f-2c44-4e81-dbc1-8d2f029797bf"
      },
      "execution_count": 35,
      "outputs": [
        {
          "output_type": "display_data",
          "data": {
            "text/plain": [
              "<Figure size 640x480 with 1 Axes>"
            ],
            "image/png": "[encoded data removed]"
          },
          "metadata": {}
        }
      ]
    },
    {
      "cell_type": "code",
      "source": [
        "plt.barh(result.index, result['MAE'], color = 'orange')\n",
        "plt.title('MAE')\n",
        "plt.show()"
      ],
      "metadata": {
        "colab": {
          "base_uri": "https://localhost:8080/",
          "height": 452
        },
        "id": "uja8BrRP-Bfi",
        "outputId": "753135a2-ee46-476b-90c1-d6d8f7dc209c"
      },
      "execution_count": 36,
      "outputs": [
        {
          "output_type": "display_data",
          "data": {
            "text/plain": [
              "<Figure size 640x480 with 1 Axes>"
            ],
            "image/png": "[encoded data removed]"
          },
          "metadata": {}
        }
      ]
    },
    {
      "cell_type": "code",
      "source": [
        "plt.barh(result.index, result['MSE'], color = '#191970')\n",
        "plt.title('MSE')\n",
        "plt.show()"
      ],
      "metadata": {
        "colab": {
          "base_uri": "https://localhost:8080/",
          "height": 470
        },
        "id": "1Sx4RhbDzwV8",
        "outputId": "3e9e34f5-f359-47e3-bb2a-2c59c3be3f4d"
      },
      "execution_count": 37,
      "outputs": [
        {
          "output_type": "display_data",
          "data": {
            "text/plain": [
              "<Figure size 640x480 with 1 Axes>"
            ],
            "image/png": "[encoded data removed]"
          },
          "metadata": {}
        }
      ]
    },
    {
      "cell_type": "code",
      "execution_count": 30,
      "metadata": {
        "id": "8D5cufjJZejZ"
      },
      "outputs": [],
      "source": []
    }
  ],
  "metadata": {
    "colab": {
      "provenance": []
    },
    "kernelspec": {
      "display_name": "Python 3",
      "name": "python3"
    },
    "language_info": {
      "name": "python"
    }
  },
  "nbformat": 4,
  "nbformat_minor": 0
}